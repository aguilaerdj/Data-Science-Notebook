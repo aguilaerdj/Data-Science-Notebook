{
 "cells": [
  {
   "cell_type": "markdown",
   "id": "ea980abe-4131-413d-b8ca-94f4e416d184",
   "metadata": {},
   "source": [
    "# Data Science Tools and Ecosystem"
   ]
  },
  {
   "cell_type": "markdown",
   "id": "a72cdd08-1782-49e6-a738-50fe67db395b",
   "metadata": {},
   "source": [
    "In this notebook, Data Science tools and Ecosystem are summarized"
   ]
  },
  {
   "cell_type": "markdown",
   "id": "d4dbeec5-2187-429b-807b-3ae5cac40766",
   "metadata": {},
   "source": [
    "1. Phyton\n",
    "2. R\n",
    "3. SQL\n",
    "4. Julia"
   ]
  },
  {
   "cell_type": "markdown",
   "id": "5b62385a-2081-4a40-97f4-65535b2ab6a4",
   "metadata": {},
   "source": [
    "1. Pandas\n",
    "2. Numpy\n",
    "3. GGPLOT2\n",
    "4. Ploty\n",
    "5. Tensor Flow\n",
    "6. Matplotlib"
   ]
  },
  {
   "cell_type": "markdown",
   "id": "ce5cb062-32c2-4273-8cb5-bcb40335fdd5",
   "metadata": {},
   "source": [
    "| Data Science Tools |\n",
    "|--------------------|\n",
    "| Jupyter Notebook   |\n",
    "| RStudio            |\n",
    "| Visual Studio Code |\n"
   ]
  },
  {
   "cell_type": "markdown",
   "id": "b4da363f-0337-440a-9104-e8e94ea2c228",
   "metadata": {},
   "source": [
    "### Below are a few examples of evaluating arithmetic expressions in Python."
   ]
  },
  {
   "cell_type": "markdown",
   "id": "00d94840-6f32-43b4-b9a2-c72d173443f9",
   "metadata": {},
   "source": [
    "This a simple arithmetic expression to mutiply then add integers."
   ]
  },
  {
   "cell_type": "code",
   "execution_count": 3,
   "id": "bab9306c-8922-46f9-92ab-360694f4fdac",
   "metadata": {},
   "outputs": [
    {
     "data": {
      "text/plain": [
       "17"
      ]
     },
     "execution_count": 3,
     "metadata": {},
     "output_type": "execute_result"
    }
   ],
   "source": [
    "(3*4)+5"
   ]
  },
  {
   "cell_type": "markdown",
   "id": "79836de7-d552-46ad-9bbe-2741c6139d26",
   "metadata": {},
   "source": [
    "This will convert 200 minutes to hours by diving by 60."
   ]
  },
  {
   "cell_type": "code",
   "execution_count": 5,
   "id": "d430209d-17aa-4d9b-a901-d93aa8d5e3d9",
   "metadata": {},
   "outputs": [
    {
     "name": "stdout",
     "output_type": "stream",
     "text": [
      "3.33\n"
     ]
    }
   ],
   "source": [
    "horas = 200 / 60\n",
    "print(f\"{horas:.2f}\")"
   ]
  },
  {
   "cell_type": "markdown",
   "id": "9589881d-a3a1-4d66-a244-0a0435a4a3f4",
   "metadata": {},
   "source": [
    "**Objectives**\n",
    "\n",
    "-Listar lenguajes populares para la Ciencia de Datos\n",
    "-Identificar herramientas de desarrollo de código abierto utilizadas en Ciencia de Datos\n",
    "-Crear listas ordenadas y no ordenadas en Markdown\n",
    "-Realizar operaciones aritméticas básicas en Python\n"
   ]
  },
  {
   "cell_type": "markdown",
   "id": "e61e3dfc-8a44-49e4-8bd8-1cb9c95050cf",
   "metadata": {},
   "source": [
    "## Author\n",
    "Eduardo Aguilar"
   ]
  }
 ],
 "metadata": {
  "kernelspec": {
   "display_name": "Python 3 (ipykernel)",
   "language": "python",
   "name": "python3"
  },
  "language_info": {
   "codemirror_mode": {
    "name": "ipython",
    "version": 3
   },
   "file_extension": ".py",
   "mimetype": "text/x-python",
   "name": "python",
   "nbconvert_exporter": "python",
   "pygments_lexer": "ipython3",
   "version": "3.12.9"
  }
 },
 "nbformat": 4,
 "nbformat_minor": 5
}
